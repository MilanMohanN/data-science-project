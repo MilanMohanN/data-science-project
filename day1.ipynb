{
  "nbformat": 4,
  "nbformat_minor": 0,
  "metadata": {
    "colab": {
      "provenance": [],
      "toc_visible": true
    },
    "kernelspec": {
      "name": "python3",
      "display_name": "Python 3"
    },
    "language_info": {
      "name": "python"
    }
  },
  "cells": [
    {
      "cell_type": "markdown",
      "metadata": {
        "id": "PJzIcrEhGGgF"
      },
      "source": [
        "## Data types\n",
        "\n",
        "### Numbers"
      ]
    },
    {
      "cell_type": "code",
      "source": [],
      "metadata": {
        "id": "F2g7caoKnl0i"
      },
      "execution_count": null,
      "outputs": []
    },
    {
      "cell_type": "code",
      "source": [
        "1 +  1    #addition"
      ],
      "metadata": {
        "id": "edAZa-X9rHrh"
      },
      "execution_count": null,
      "outputs": []
    },
    {
      "cell_type": "markdown",
      "source": [
        "2"
      ],
      "metadata": {
        "id": "3POxrJMSnl_f"
      }
    },
    {
      "cell_type": "code",
      "source": [
        "1 * 3"
      ],
      "metadata": {
        "id": "udAE92srnom_"
      },
      "execution_count": null,
      "outputs": []
    },
    {
      "cell_type": "markdown",
      "source": [
        "3"
      ],
      "metadata": {
        "id": "_y0MsAUinotY"
      }
    },
    {
      "cell_type": "code",
      "source": [
        "1 / 2"
      ],
      "metadata": {
        "id": "QJ0xjWoInoyl"
      },
      "execution_count": null,
      "outputs": []
    },
    {
      "cell_type": "markdown",
      "source": [
        "0.5"
      ],
      "metadata": {
        "id": "sPc9y9guno3T"
      }
    },
    {
      "cell_type": "code",
      "source": [
        "2 ** 4"
      ],
      "metadata": {
        "id": "WCTqYs0Ino8d"
      },
      "execution_count": null,
      "outputs": []
    },
    {
      "cell_type": "markdown",
      "source": [
        "16"
      ],
      "metadata": {
        "id": "hN74HQXknpBG"
      }
    },
    {
      "cell_type": "code",
      "source": [
        "4 % 2"
      ],
      "metadata": {
        "id": "nGpuzMTpnpFv"
      },
      "execution_count": null,
      "outputs": []
    },
    {
      "cell_type": "markdown",
      "source": [
        "0"
      ],
      "metadata": {
        "id": "jfYKw71qnpKa"
      }
    },
    {
      "cell_type": "code",
      "source": [
        "5 % 2"
      ],
      "metadata": {
        "id": "VSUypcOenpOv"
      },
      "execution_count": null,
      "outputs": []
    },
    {
      "cell_type": "markdown",
      "source": [
        "1"
      ],
      "metadata": {
        "id": "bzBMBZbonpTM"
      }
    },
    {
      "cell_type": "code",
      "source": [
        "(2 + 3) * (5 + 5)"
      ],
      "metadata": {
        "id": "Ihwwp-jLnpX9"
      },
      "execution_count": null,
      "outputs": []
    },
    {
      "cell_type": "markdown",
      "source": [
        "50"
      ],
      "metadata": {
        "id": "YT5NoVCCnpbx"
      }
    },
    {
      "cell_type": "markdown",
      "metadata": {
        "id": "0tXGWCJ_GGgX"
      },
      "source": [
        "### Variable Assignment"
      ]
    },
    {
      "cell_type": "code",
      "source": [
        "# Can not start with number or special characters\n",
        "name_of_var = 2"
      ],
      "metadata": {
        "id": "kKPvFKOZn8TH"
      },
      "execution_count": null,
      "outputs": []
    },
    {
      "cell_type": "code",
      "source": [
        "x = 2\n",
        "y = 3"
      ],
      "metadata": {
        "id": "DfszcApJn8Vo"
      },
      "execution_count": null,
      "outputs": []
    },
    {
      "cell_type": "code",
      "source": [
        "z = x + y"
      ],
      "metadata": {
        "id": "ZbAYW9v7n8YK"
      },
      "execution_count": null,
      "outputs": []
    },
    {
      "cell_type": "code",
      "source": [
        "z"
      ],
      "metadata": {
        "id": "fmREjSlln8iu"
      },
      "execution_count": null,
      "outputs": []
    },
    {
      "cell_type": "markdown",
      "source": [
        "5"
      ],
      "metadata": {
        "id": "CxB56uOin8oP"
      }
    },
    {
      "cell_type": "markdown",
      "metadata": {
        "id": "H6tVfNA4GGgg"
      },
      "source": [
        "### Strings"
      ]
    },
    {
      "cell_type": "code",
      "source": [
        "'single quotes'"
      ],
      "metadata": {
        "id": "zQEfZL-jn_LF"
      },
      "execution_count": null,
      "outputs": []
    },
    {
      "cell_type": "markdown",
      "source": [
        "'single quotes'"
      ],
      "metadata": {
        "id": "NzVyymnNn_TP"
      }
    },
    {
      "cell_type": "code",
      "source": [
        "\"double quotes\""
      ],
      "metadata": {
        "id": "CvnmNsFun_Ym"
      },
      "execution_count": null,
      "outputs": []
    },
    {
      "cell_type": "markdown",
      "source": [
        "\"double quotes\""
      ],
      "metadata": {
        "id": "maCxgSHXn_cd"
      }
    },
    {
      "cell_type": "code",
      "source": [
        "\" wrap lot's of other quotes\""
      ],
      "metadata": {
        "id": "TBWivzPPn_gZ"
      },
      "execution_count": null,
      "outputs": []
    },
    {
      "cell_type": "markdown",
      "source": [
        "\" wrap lot's of other quotes\""
      ],
      "metadata": {
        "id": "M0kA0OHtn_kC"
      }
    },
    {
      "cell_type": "markdown",
      "metadata": {
        "id": "fAOUuumEGGgp"
      },
      "source": [
        "### Printing"
      ]
    },
    {
      "cell_type": "code",
      "source": [
        "x = 'hello'"
      ],
      "metadata": {
        "id": "jXYmt_xyoDeJ"
      },
      "execution_count": null,
      "outputs": []
    },
    {
      "cell_type": "code",
      "source": [
        "x"
      ],
      "metadata": {
        "id": "57IE4RUCoDhA"
      },
      "execution_count": null,
      "outputs": []
    },
    {
      "cell_type": "markdown",
      "source": [
        "'hello'"
      ],
      "metadata": {
        "id": "vvJE83FqoDll"
      }
    },
    {
      "cell_type": "code",
      "source": [
        "[ ] print(x)"
      ],
      "metadata": {
        "id": "KONYZjhcoDxe"
      },
      "execution_count": null,
      "outputs": []
    },
    {
      "cell_type": "markdown",
      "source": [
        "hello"
      ],
      "metadata": {
        "id": "om5wN5DjoD21"
      }
    },
    {
      "cell_type": "code",
      "source": [
        "num = 12\n",
        "name = 'Sam'"
      ],
      "metadata": {
        "id": "ajxcHBSBoD6s"
      },
      "execution_count": null,
      "outputs": []
    },
    {
      "cell_type": "code",
      "source": [
        "print('My number is: {one}, and my name is: {two}'.format(one=num,two=name))"
      ],
      "metadata": {
        "id": "m-32jD02shtP"
      },
      "execution_count": null,
      "outputs": []
    },
    {
      "cell_type": "markdown",
      "source": [
        "My number is: 12, and my name is: Sam"
      ],
      "metadata": {
        "id": "DmP0b8mEsh0w"
      }
    },
    {
      "cell_type": "code",
      "source": [
        "print('My number is: {}, and my name is: {}'.format(num,name))"
      ],
      "metadata": {
        "id": "MInYUSttsh7C"
      },
      "execution_count": null,
      "outputs": []
    },
    {
      "cell_type": "markdown",
      "source": [
        "My number is: 12, and my name is: Sam"
      ],
      "metadata": {
        "id": "WjlYJvWqsiCc"
      }
    },
    {
      "cell_type": "markdown",
      "metadata": {
        "id": "KwNBxb5eGGg8"
      },
      "source": [
        " Lists\n",
        "\n",
        "https://www.w3schools.com/python/python_lists.asp"
      ]
    },
    {
      "cell_type": "code",
      "source": [
        "[1,2,3]"
      ],
      "metadata": {
        "id": "msc-OyO0oKKA"
      },
      "execution_count": null,
      "outputs": []
    },
    {
      "cell_type": "markdown",
      "source": [
        "[1, 2, 3]"
      ],
      "metadata": {
        "id": "XCJF8QNnoKQb"
      }
    },
    {
      "cell_type": "code",
      "source": [
        "['hi',1,[1,2]]"
      ],
      "metadata": {
        "id": "7MuP-yIHtEFX"
      },
      "execution_count": null,
      "outputs": []
    },
    {
      "cell_type": "markdown",
      "source": [
        "['hi', 1, [1, 2]]"
      ],
      "metadata": {
        "id": "WVlION97tEKw"
      }
    },
    {
      "cell_type": "code",
      "source": [
        "my_list = ['a','b','c']"
      ],
      "metadata": {
        "id": "kW5DFOAioKV1"
      },
      "execution_count": null,
      "outputs": []
    },
    {
      "cell_type": "code",
      "source": [
        "my_list.append('d')"
      ],
      "metadata": {
        "id": "TSkQolm_oMKB"
      },
      "execution_count": null,
      "outputs": []
    },
    {
      "cell_type": "code",
      "source": [
        "my_list"
      ],
      "metadata": {
        "id": "H7H5B7l9oMOh"
      },
      "execution_count": null,
      "outputs": []
    },
    {
      "cell_type": "markdown",
      "source": [
        "['a', 'b', 'c', 'd']"
      ],
      "metadata": {
        "id": "avV3e6b1oMU2"
      }
    },
    {
      "cell_type": "code",
      "source": [
        "my_list[0]"
      ],
      "metadata": {
        "id": "cdzwMpdfoO-Y"
      },
      "execution_count": null,
      "outputs": []
    },
    {
      "cell_type": "markdown",
      "source": [
        "'a'"
      ],
      "metadata": {
        "id": "_BT1KDyzoPCn"
      }
    },
    {
      "cell_type": "code",
      "source": [
        "my_list[1]"
      ],
      "metadata": {
        "id": "CjjGmd7toPIJ"
      },
      "execution_count": null,
      "outputs": []
    },
    {
      "cell_type": "markdown",
      "source": [
        "'b'"
      ],
      "metadata": {
        "id": "4z-V2RtmoPMt"
      }
    },
    {
      "cell_type": "code",
      "source": [
        "my_list[:1]"
      ],
      "metadata": {
        "id": "LbnGqk4roPa3"
      },
      "execution_count": null,
      "outputs": []
    },
    {
      "cell_type": "markdown",
      "source": [
        "['a']"
      ],
      "metadata": {
        "id": "JfV9O8qcoPen"
      }
    },
    {
      "cell_type": "code",
      "source": [
        "my_list[0] = 'NEW'"
      ],
      "metadata": {
        "id": "WYh0FRWuoREl"
      },
      "execution_count": null,
      "outputs": []
    },
    {
      "cell_type": "code",
      "source": [
        "list(range(5))"
      ],
      "metadata": {
        "id": "awrfLhheoRHL"
      },
      "execution_count": null,
      "outputs": []
    },
    {
      "cell_type": "markdown",
      "source": [
        "[0, 1, 2, 3, 4]"
      ],
      "metadata": {
        "id": "x1DisoBHoRO1"
      }
    },
    {
      "cell_type": "code",
      "source": [
        "my_list"
      ],
      "metadata": {
        "id": "umlkY6hwoRUV"
      },
      "execution_count": null,
      "outputs": []
    },
    {
      "cell_type": "markdown",
      "source": [
        "['NEW', 'b', 'c', 'd']"
      ],
      "metadata": {
        "id": "sRB6pXLnoSGP"
      }
    },
    {
      "cell_type": "code",
      "source": [
        "nest = [1,2,3,[4,5,['target']]]"
      ],
      "metadata": {
        "id": "OrXtn9rzoUcq"
      },
      "execution_count": null,
      "outputs": []
    },
    {
      "cell_type": "code",
      "source": [
        "nest[3]"
      ],
      "metadata": {
        "id": "YOcmN5-coUfJ"
      },
      "execution_count": null,
      "outputs": []
    },
    {
      "cell_type": "markdown",
      "source": [
        "[4, 5, ['target']]"
      ],
      "metadata": {
        "id": "yHAYwFG9oU0A"
      }
    },
    {
      "cell_type": "code",
      "source": [
        "nest[3][2]"
      ],
      "metadata": {
        "id": "EvN3Jz-MoU_z"
      },
      "execution_count": null,
      "outputs": []
    },
    {
      "cell_type": "markdown",
      "source": [
        "['target']"
      ],
      "metadata": {
        "id": "wd5llfC7oVHb"
      }
    },
    {
      "cell_type": "code",
      "source": [
        "nest[3][2][0]"
      ],
      "metadata": {
        "id": "u2Iy3wKGoWiI"
      },
      "execution_count": null,
      "outputs": []
    },
    {
      "cell_type": "markdown",
      "source": [
        "'target'"
      ],
      "metadata": {
        "id": "9QMPf4gloWoQ"
      }
    },
    {
      "cell_type": "markdown",
      "metadata": {
        "id": "liUGHtq5GGhc"
      },
      "source": [
        "### Dictionaries\n",
        "\n",
        "https://www.w3schools.com/python/python_dictionaries.asp"
      ]
    },
    {
      "cell_type": "code",
      "source": [
        "d = {'key1':'item1','key2':'item2'}"
      ],
      "metadata": {
        "id": "nm38VWVboZKE"
      },
      "execution_count": null,
      "outputs": []
    },
    {
      "cell_type": "code",
      "source": [
        "d"
      ],
      "metadata": {
        "id": "NrGXvPM8oZNT"
      },
      "execution_count": null,
      "outputs": []
    },
    {
      "cell_type": "markdown",
      "source": [
        "{'key1': 'item1', 'key2': 'item2'}"
      ],
      "metadata": {
        "id": "_oxykj6ZoZTi"
      }
    },
    {
      "cell_type": "code",
      "source": [
        "d['key1']"
      ],
      "metadata": {
        "id": "ZjRNW1OVoZZK"
      },
      "execution_count": null,
      "outputs": []
    },
    {
      "cell_type": "markdown",
      "source": [
        "'item1'"
      ],
      "metadata": {
        "id": "A8MpJ969oZdA"
      }
    },
    {
      "cell_type": "markdown",
      "metadata": {
        "id": "NDNJg_w9GGhq"
      },
      "source": [
        "### Tuples \n",
        "\n",
        "https://www.w3schools.com/python/python_tuples.asp"
      ]
    },
    {
      "cell_type": "code",
      "source": [
        "t = (1,2,3)"
      ],
      "metadata": {
        "id": "XUGkV4bXoeWt"
      },
      "execution_count": null,
      "outputs": []
    },
    {
      "cell_type": "code",
      "source": [
        "t[0]"
      ],
      "metadata": {
        "id": "fvtxsg1koeas"
      },
      "execution_count": null,
      "outputs": []
    },
    {
      "cell_type": "markdown",
      "source": [
        "1"
      ],
      "metadata": {
        "id": "whALr5UyoegG"
      }
    },
    {
      "cell_type": "code",
      "source": [
        "#A tuple is a unchangeable, so you will get an error\n",
        " \n",
        "t[0] = 'NEW'"
      ],
      "metadata": {
        "id": "B7i5SGV2ogNi"
      },
      "execution_count": null,
      "outputs": []
    },
    {
      "cell_type": "markdown",
      "source": [
        "---------------------------------------------------------------------------\n",
        "TypeError                                 Traceback (most recent call last)\n",
        "<ipython-input-7-66398ebc44b2> in <module>()\n",
        "      1 \n",
        "----> 2 t[0] = 'NEW'    #A tuple is a unchangeable, so you will get an error\n",
        "\n",
        "TypeError: 'tuple' object does not support item assignment"
      ],
      "metadata": {
        "id": "fpICPTVPogSr"
      }
    },
    {
      "cell_type": "markdown",
      "metadata": {
        "id": "bhsr6RyKGGiK"
      },
      "source": [
        "## if,elif, else Statements"
      ]
    },
    {
      "cell_type": "code",
      "source": [
        "if 1 < 2:\n",
        "    print('Yep!')"
      ],
      "metadata": {
        "id": "8plXvWJ6ovBe"
      },
      "execution_count": null,
      "outputs": []
    },
    {
      "cell_type": "markdown",
      "source": [
        "Yep!"
      ],
      "metadata": {
        "id": "CnUWokyoovHP"
      }
    },
    {
      "cell_type": "code",
      "source": [
        "if 1 < 2:\n",
        "    print('yep!')"
      ],
      "metadata": {
        "id": "G_c8PnVmovOT"
      },
      "execution_count": null,
      "outputs": []
    },
    {
      "cell_type": "markdown",
      "source": [
        "Yep!"
      ],
      "metadata": {
        "id": "4QbZHhJDovT8"
      }
    },
    {
      "cell_type": "code",
      "source": [
        "if 1 < 2:\n",
        "    print('first')\n",
        "else:\n",
        "    print('last')"
      ],
      "metadata": {
        "id": "I_Hg7mM3ovaJ"
      },
      "execution_count": null,
      "outputs": []
    },
    {
      "cell_type": "markdown",
      "source": [
        "first"
      ],
      "metadata": {
        "id": "LiAxtzl8ovga"
      }
    },
    {
      "cell_type": "code",
      "source": [
        "if 1 > 2:\n",
        "    print('first')\n",
        "else:\n",
        "    print('last')"
      ],
      "metadata": {
        "id": "anQNvKTYovmB"
      },
      "execution_count": null,
      "outputs": []
    },
    {
      "cell_type": "markdown",
      "source": [
        "last"
      ],
      "metadata": {
        "id": "PM8HB7fHovsT"
      }
    },
    {
      "cell_type": "code",
      "source": [
        "if 1 == 2:\n",
        "    print('first')\n",
        "elif 3 == 3:\n",
        "    print('middle')\n",
        "else:\n",
        "    print('Last')"
      ],
      "metadata": {
        "id": "XjyThRFhovxz"
      },
      "execution_count": null,
      "outputs": []
    },
    {
      "cell_type": "markdown",
      "source": [
        "middle"
      ],
      "metadata": {
        "id": "v1PP8PMQov3j"
      }
    },
    {
      "cell_type": "markdown",
      "metadata": {
        "id": "SNwBQAHdGGim"
      },
      "source": [
        "## list comprehension"
      ]
    },
    {
      "cell_type": "code",
      "source": [
        "x = [1,2,3,4]"
      ],
      "metadata": {
        "id": "-W7s0wBEo6g9"
      },
      "execution_count": null,
      "outputs": []
    },
    {
      "cell_type": "code",
      "source": [
        "out = []\n",
        "for item in x:\n",
        "    out.append(item**2)\n",
        "print(out)"
      ],
      "metadata": {
        "id": "jkqpbqMYo6kh"
      },
      "execution_count": null,
      "outputs": []
    },
    {
      "cell_type": "markdown",
      "source": [
        "[1, 4, 9, 16]"
      ],
      "metadata": {
        "id": "Qs3szC4vo6uV"
      }
    },
    {
      "cell_type": "code",
      "source": [
        "[item**2 for item in x]"
      ],
      "metadata": {
        "id": "scidKvvgo61L"
      },
      "execution_count": null,
      "outputs": []
    },
    {
      "cell_type": "markdown",
      "source": [
        "[1, 4, 9, 16]"
      ],
      "metadata": {
        "id": "BX4UVXCyo66C"
      }
    },
    {
      "cell_type": "code",
      "source": [
        "\n",
        "a = (\"John\", \"Charles\", \"Mike\")\n",
        "b = (\"Jenny\", \"Christy\", \"Monica\")\n",
        "\n",
        "x = zip(a, b)\n",
        "\n",
        "#use the tuple() function to display a readable version of the result:\n",
        "\n",
        "print(tuple(x))"
      ],
      "metadata": {
        "id": "tVOZk5Wro8z1"
      },
      "execution_count": null,
      "outputs": []
    },
    {
      "cell_type": "markdown",
      "source": [
        "(('John', 'Jenny'), ('Charles', 'Christy'), ('Mike', 'Monica'))"
      ],
      "metadata": {
        "id": "qc7TRpc4o858"
      }
    },
    {
      "cell_type": "code",
      "source": [
        "players = [ \"Sachin\", \"Sehwag\", \"Gambhir\", \"Dravid\", \"Raina\" ] \n",
        "  \n",
        "# initializing their scores \n",
        "scores = [100, 15, 17, 28, 43 ] \n",
        "  \n",
        "# printing players and scores. \n",
        "for pl, sc in zip(players, scores): \n",
        "    print (\"Player :  %s     Score : %d\" %(pl, sc)) "
      ],
      "metadata": {
        "id": "n4dJqefAo-L9"
      },
      "execution_count": null,
      "outputs": []
    },
    {
      "cell_type": "markdown",
      "source": [
        "Player :  Sachin     Score : 100\n",
        "\n",
        "Player :  Sehwag     Score : 15\n",
        "\n",
        "Player :  Gambhir     Score : 17\n",
        "\n",
        "Player :  Dravid     Score : 28\n",
        "\n",
        "Player :  Raina     Score : 43"
      ],
      "metadata": {
        "id": "eE7knkxEo-UB"
      }
    },
    {
      "cell_type": "markdown",
      "source": [
        "X"
      ],
      "metadata": {
        "id": "a4dAV1ilwtvK"
      }
    },
    {
      "cell_type": "code",
      "source": [
        "def my_func(param1='default'):\n",
        "    \"\"\"\n",
        "    Docstring goes here.\n",
        "    \"\"\"\n",
        "    print(param1)"
      ],
      "metadata": {
        "id": "zDjo-YPfpB4m"
      },
      "execution_count": null,
      "outputs": []
    },
    {
      "cell_type": "code",
      "source": [
        "my_func"
      ],
      "metadata": {
        "id": "cN-0lFAQpB8G"
      },
      "execution_count": null,
      "outputs": []
    },
    {
      "cell_type": "markdown",
      "source": [
        " <function __main__.my_func>"
      ],
      "metadata": {
        "id": "SdZgh60WxWAP"
      }
    },
    {
      "cell_type": "code",
      "source": [
        "my_func()"
      ],
      "metadata": {
        "id": "kKrxwR9npCQ0"
      },
      "execution_count": null,
      "outputs": []
    },
    {
      "cell_type": "markdown",
      "source": [
        "default"
      ],
      "metadata": {
        "id": "svWAYypapCU2"
      }
    },
    {
      "cell_type": "code",
      "source": [
        "my_func('new param')"
      ],
      "metadata": {
        "id": "zfik4GZ8pCb4"
      },
      "execution_count": null,
      "outputs": []
    },
    {
      "cell_type": "markdown",
      "source": [
        "new param"
      ],
      "metadata": {
        "id": "83-Aw_-xpChn"
      }
    },
    {
      "cell_type": "code",
      "source": [
        "my_func(param1='new param')"
      ],
      "metadata": {
        "id": "HQMgzwVMpEcD"
      },
      "execution_count": null,
      "outputs": []
    },
    {
      "cell_type": "markdown",
      "source": [
        "new param"
      ],
      "metadata": {
        "id": "A2yzbkv1pEhl"
      }
    },
    {
      "cell_type": "code",
      "source": [
        "def square(x):\n",
        "    return x**2"
      ],
      "metadata": {
        "id": "OFcBoiZ1pGYQ"
      },
      "execution_count": null,
      "outputs": []
    },
    {
      "cell_type": "code",
      "source": [
        "out = square(2)"
      ],
      "metadata": {
        "id": "Oqnf8bKspGc6"
      },
      "execution_count": null,
      "outputs": []
    },
    {
      "cell_type": "code",
      "source": [
        "print(out)"
      ],
      "metadata": {
        "id": "S_LG5uUWpGjJ"
      },
      "execution_count": null,
      "outputs": []
    },
    {
      "cell_type": "markdown",
      "source": [
        "4"
      ],
      "metadata": {
        "id": "_kwOx0ZjpGvS"
      }
    },
    {
      "cell_type": "markdown",
      "metadata": {
        "id": "i2PH8kxBGGi-"
      },
      "source": [
        "## lambda expressions\n",
        "\n",
        "https://www.w3schools.com/python/python_lambda.asp"
      ]
    },
    {
      "cell_type": "code",
      "source": [
        "def times2(var):\n",
        "    return var*2"
      ],
      "metadata": {
        "id": "XmUuMI5hpKKG"
      },
      "execution_count": null,
      "outputs": []
    },
    {
      "cell_type": "code",
      "source": [],
      "metadata": {
        "id": "VpLUwwalpKN3"
      },
      "execution_count": null,
      "outputs": []
    },
    {
      "cell_type": "code",
      "source": [
        "times2(2)"
      ],
      "metadata": {
        "id": "wxVA9ks8pKSc"
      },
      "execution_count": null,
      "outputs": []
    },
    {
      "cell_type": "markdown",
      "source": [
        "4"
      ],
      "metadata": {
        "id": "8NvU4qb7pKaH"
      }
    },
    {
      "cell_type": "code",
      "source": [
        "lambda var: var*2"
      ],
      "metadata": {
        "id": "Bh0QBsRxpKg5"
      },
      "execution_count": null,
      "outputs": []
    },
    {
      "cell_type": "markdown",
      "source": [
        "<function __main__.<lambda>(var)>"
      ],
      "metadata": {
        "id": "E0Hd4PJ7pKnP"
      }
    },
    {
      "cell_type": "markdown",
      "metadata": {
        "id": "xhk1epFRLhqU"
      },
      "source": [
        "## Exercises\n",
        "\n",
        "Answer the questions or complete the tasks outlined in bold below, use the specific method described if applicable."
      ]
    },
    {
      "cell_type": "markdown",
      "source": [
        "** What is 7 to the power of 4?**"
      ],
      "metadata": {
        "id": "zRKIr7CrpzEi"
      }
    },
    {
      "cell_type": "code",
      "source": [],
      "metadata": {
        "id": "AATUE8ykp2Z7"
      },
      "execution_count": null,
      "outputs": []
    },
    {
      "cell_type": "markdown",
      "source": [
        "2401"
      ],
      "metadata": {
        "id": "C9-yDf02p2vU"
      }
    },
    {
      "cell_type": "markdown",
      "source": [
        "** Split this string:**"
      ],
      "metadata": {
        "id": "wA6efcWup2zN"
      }
    },
    {
      "cell_type": "code",
      "source": [
        "s = \"Hi there Sam!\""
      ],
      "metadata": {
        "id": "c4JipZwgp4sg"
      },
      "execution_count": null,
      "outputs": []
    },
    {
      "cell_type": "markdown",
      "source": [
        "*into a list. *"
      ],
      "metadata": {
        "id": "VfFJwTyqp4xb"
      }
    },
    {
      "cell_type": "code",
      "source": [],
      "metadata": {
        "id": "yS7OLLn4p46o"
      },
      "execution_count": null,
      "outputs": []
    },
    {
      "cell_type": "code",
      "source": [
        "print(lst)"
      ],
      "metadata": {
        "id": "Lv1fpRo3p4-o"
      },
      "execution_count": null,
      "outputs": []
    },
    {
      "cell_type": "markdown",
      "source": [
        "** Given the variables:**"
      ],
      "metadata": {
        "id": "YIH5Orhyp5Ec"
      }
    },
    {
      "cell_type": "code",
      "source": [
        "planet = \"Earth\"\n",
        "diameter = 12742"
      ],
      "metadata": {
        "id": "jofhL8hAp8RB"
      },
      "execution_count": null,
      "outputs": []
    },
    {
      "cell_type": "markdown",
      "source": [
        "** Use .format() to print the following string: **"
      ],
      "metadata": {
        "id": "DjIk-4gWp8XT"
      }
    },
    {
      "cell_type": "code",
      "source": [
        "The diameter of Earth is 12742 kilometers."
      ],
      "metadata": {
        "id": "s_jaY08xp8fp"
      },
      "execution_count": null,
      "outputs": []
    },
    {
      "cell_type": "code",
      "source": [
        "planet = \"Earth\"\n",
        "diameter = 12742"
      ],
      "metadata": {
        "id": "WBLnHsIIp8lH"
      },
      "execution_count": null,
      "outputs": []
    },
    {
      "cell_type": "code",
      "source": [],
      "metadata": {
        "id": "T6D40TcNp8qd"
      },
      "execution_count": null,
      "outputs": []
    },
    {
      "cell_type": "markdown",
      "source": [
        "The diameter of Earth is 12742 kilometers."
      ],
      "metadata": {
        "id": "sTnIdAKnp8xU"
      }
    },
    {
      "cell_type": "markdown",
      "source": [
        "** Given this nested list, use indexing to grab the word \"hello\" **"
      ],
      "metadata": {
        "id": "Vnr9DcG7p839"
      }
    },
    {
      "cell_type": "code",
      "source": [
        "lst = [1,2,[3,4],[5,[100,200,['hello']],23,11],1,7]"
      ],
      "metadata": {
        "id": "sb_VEjwJp_az"
      },
      "execution_count": null,
      "outputs": []
    },
    {
      "cell_type": "code",
      "source": [],
      "metadata": {
        "id": "bodqPaUDp_gE"
      },
      "execution_count": null,
      "outputs": []
    },
    {
      "cell_type": "markdown",
      "source": [
        "'hello'"
      ],
      "metadata": {
        "id": "e_dq2WA9p_lZ"
      }
    },
    {
      "cell_type": "markdown",
      "source": [
        "** Given this nested dictionary grab the word \"hello\". Be prepared, this will be annoying/tricky **"
      ],
      "metadata": {
        "id": "U6KHk_vTp_qK"
      }
    },
    {
      "cell_type": "code",
      "source": [
        "d = {'k1':[1,2,3,{'tricky':['oh','man','inception',{'target':[1,2,3,'hello']}]}]}"
      ],
      "metadata": {
        "id": "FDLYCCyqp_vj"
      },
      "execution_count": null,
      "outputs": []
    },
    {
      "cell_type": "code",
      "source": [],
      "metadata": {
        "id": "r3lBWjDhp_0d"
      },
      "execution_count": null,
      "outputs": []
    },
    {
      "cell_type": "markdown",
      "source": [
        "'hello'"
      ],
      "metadata": {
        "id": "QC87wR-Cp_53"
      }
    },
    {
      "cell_type": "markdown",
      "source": [
        "** What is the main difference between a tuple and a list? **"
      ],
      "metadata": {
        "id": "LyjMrJiCp__D"
      }
    },
    {
      "cell_type": "code",
      "source": [],
      "metadata": {
        "id": "FpmpLDrXqCSi"
      },
      "execution_count": null,
      "outputs": []
    },
    {
      "cell_type": "markdown",
      "source": [
        "** Create a function that grabs the email website domain from a string in the form: **"
      ],
      "metadata": {
        "id": "Au6rmXhKqCYZ"
      }
    },
    {
      "cell_type": "code",
      "source": [
        "user@domain.com"
      ],
      "metadata": {
        "id": "-eHmCpRHqCec"
      },
      "execution_count": null,
      "outputs": []
    },
    {
      "cell_type": "markdown",
      "source": [
        "So for example, passing \"user@domain.com\" would return: domain.com\n",
        "\n",
        "[ ]\n"
      ],
      "metadata": {
        "id": "pfcuwdgLqCkG"
      }
    },
    {
      "cell_type": "code",
      "source": [],
      "metadata": {
        "id": "DRrkHlMtqCu7"
      },
      "execution_count": null,
      "outputs": []
    },
    {
      "cell_type": "code",
      "source": [
        "domainGet('user@domain.com')"
      ],
      "metadata": {
        "id": "EsvuyL1dqCpu"
      },
      "execution_count": null,
      "outputs": []
    },
    {
      "cell_type": "markdown",
      "source": [
        "'domain.com'"
      ],
      "metadata": {
        "id": "Y-UgaIIRqC1B"
      }
    },
    {
      "cell_type": "markdown",
      "source": [
        "** Create a basic function that returns True if the word 'dog' is contained in the input string. Don't worry about edge cases like a punctuation being attached to the word dog, but do account for capitalization. **\n",
        "\n",
        "[ ]"
      ],
      "metadata": {
        "id": "eV_HUMjuqC64"
      }
    },
    {
      "cell_type": "code",
      "source": [],
      "metadata": {
        "id": "HAqYumQoqFlC"
      },
      "execution_count": null,
      "outputs": []
    },
    {
      "cell_type": "code",
      "source": [
        "findDog('Is there a dog here?')"
      ],
      "metadata": {
        "id": "NoSlA6oBqFqc"
      },
      "execution_count": null,
      "outputs": []
    },
    {
      "cell_type": "markdown",
      "source": [
        "True"
      ],
      "metadata": {
        "id": "dcD0ZkqzqGn4"
      }
    },
    {
      "cell_type": "markdown",
      "source": [
        "** Create a function that counts the number of times the word \"dog\" occurs in a string. Again ignore edge cases. **"
      ],
      "metadata": {
        "id": "P3zIOtE6qGtB"
      }
    },
    {
      "cell_type": "code",
      "source": [],
      "metadata": {
        "id": "zsKcurBjqMcZ"
      },
      "execution_count": null,
      "outputs": []
    },
    {
      "cell_type": "code",
      "source": [
        "countDog('This dog runs faster than the other dog dude!')"
      ],
      "metadata": {
        "id": "kC6e1mgdqMjT"
      },
      "execution_count": null,
      "outputs": []
    },
    {
      "cell_type": "markdown",
      "source": [
        "2"
      ],
      "metadata": {
        "id": "L_Xto-g0qMtd"
      }
    },
    {
      "cell_type": "markdown",
      "source": [
        "** Use lambda expressions and the filter() function to filter out words from a list that don't start with the letter 's'. For example:**"
      ],
      "metadata": {
        "id": "AUjcrSDjqMyA"
      }
    },
    {
      "cell_type": "code",
      "source": [
        "seq = ['soup','dog','salad','cat','great']"
      ],
      "metadata": {
        "id": "llMJoHrDqQSK"
      },
      "execution_count": null,
      "outputs": []
    },
    {
      "cell_type": "markdown",
      "source": [
        "should be filtered down to:"
      ],
      "metadata": {
        "id": "mcFzLkAfqQa3"
      }
    },
    {
      "cell_type": "code",
      "source": [
        "['soup','salad']"
      ],
      "metadata": {
        "id": "B1t3IkPkqQiO"
      },
      "execution_count": null,
      "outputs": []
    },
    {
      "cell_type": "code",
      "source": [
        "seq = ['soup','dog','salad','cat','great']"
      ],
      "metadata": {
        "id": "zUUkRX1rqQoA"
      },
      "execution_count": null,
      "outputs": []
    },
    {
      "cell_type": "code",
      "source": [],
      "metadata": {
        "id": "L0OHB0UwqQt8"
      },
      "execution_count": null,
      "outputs": []
    },
    {
      "cell_type": "markdown",
      "source": [
        "['soup', 'salad']"
      ],
      "metadata": {
        "id": "jVOVXX74qQzY"
      }
    },
    {
      "cell_type": "markdown",
      "metadata": {
        "id": "hUbxkQXCLhrl"
      },
      "source": [
        "### Final Problem\n",
        "**You are driving a little too fast, and a police officer stops you. Write a function\n",
        "  to return one of 3 possible results: \"No ticket\", \"Small ticket\", or \"Big Ticket\". \n",
        "  If your speed is 60 or less, the result is \"No Ticket\". If speed is between 61 \n",
        "  and 80 inclusive, the result is \"Small Ticket\". If speed is 81 or more, the result is \"Big    Ticket\". Unless it is your birthday (encoded as a boolean value in the parameters of the function) -- on your birthday, your speed can be 5 higher in all \n",
        "  cases. **"
      ]
    },
    {
      "cell_type": "code",
      "source": [
        "def caught_speeding(speed, is_birthday):\n",
        "    pass"
      ],
      "metadata": {
        "id": "fYFqzyOqqUNF"
      },
      "execution_count": null,
      "outputs": []
    },
    {
      "cell_type": "code",
      "source": [
        "caught_speeding(81,True)"
      ],
      "metadata": {
        "id": "uJceb35OqUTF"
      },
      "execution_count": null,
      "outputs": []
    },
    {
      "cell_type": "markdown",
      "source": [
        "'Small Ticket'"
      ],
      "metadata": {
        "id": "lwLDWoRUqUeF"
      }
    },
    {
      "cell_type": "code",
      "source": [
        "caught_speeding(81,False)"
      ],
      "metadata": {
        "id": "XcCCO32IqUln"
      },
      "execution_count": null,
      "outputs": []
    },
    {
      "cell_type": "markdown",
      "source": [
        "'Big Ticket'"
      ],
      "metadata": {
        "id": "AgwfgecEqUrc"
      }
    }
  ]
}